{
 "cells": [
  {
   "cell_type": "markdown",
   "metadata": {},
   "source": [
    "# 08: 绘图功能\n",
    "学习画线、圆和矩形等多种几何形状，给图片添加文字。图片等可到文末引用处下载。\n",
    "\n",
    "# 目标\n",
    "* 绘制各种几何形状、添加文字\n",
    "* OpenCV 函数：cv2.line(), cv2.circle(), cv2.rectangle(), cv2.ellipse(), cv2.putText()"
   ]
  },
  {
   "cell_type": "markdown",
   "metadata": {},
   "source": [
    "# 教程\n",
    "# 参数说明\n",
    "绘制形状的函数有一些共同的参数，提前在此说明一下：\n",
    "\n",
    "* img：要绘制形状的图片\n",
    "* color：绘制的颜色\n",
    "  * 彩色图就传入 BGR 的一组值，如蓝色就是(255,0,0)\n",
    "  * 灰度图，传入一个灰度值就行\n",
    "* thickness：线宽，默认为 1；对于矩形/圆之类的封闭形状而言，传入-1 表示填充形状\n",
    "\n",
    "需要导入的模块和显示图片的通用代码："
   ]
  },
  {
   "cell_type": "code",
   "execution_count": 2,
   "metadata": {},
   "outputs": [],
   "source": [
    "import cv2\n",
    "import numpy as np\n",
    "import matplotlib.pyplot as plt\n",
    "\n"
   ]
  },
  {
   "cell_type": "markdown",
   "metadata": {},
   "source": [
    "# 画线\n",
    "画直线只需指定起点和终点的坐标就行："
   ]
  },
  {
   "cell_type": "code",
   "execution_count": 4,
   "metadata": {},
   "outputs": [
    {
     "data": {
      "text/plain": [
       "-1"
      ]
     },
     "execution_count": 4,
     "metadata": {},
     "output_type": "execute_result"
    }
   ],
   "source": [
    "# 创建一副黑色的图片\n",
    "img = np.zeros((512, 512, 3), np.uint8)\n",
    "# 画一条线宽为 5 的蓝色直线，参数 2：起点，参数 3：终点\n",
    "cv2.line(img, (0, 0), (512, 512), (255, 0, 0), 5)\n",
    "\n",
    "\n",
    "cv2.imshow('img',img)\n",
    "cv2.waitKey(0)"
   ]
  },
  {
   "cell_type": "markdown",
   "metadata": {},
   "source": [
    "经验之谈：所有绘图函数均会直接影响原图片，这点要注意"
   ]
  },
  {
   "cell_type": "markdown",
   "metadata": {},
   "source": [
    "# 画矩形\n",
    "画矩形需要知道左上角和右下角的坐标："
   ]
  },
  {
   "cell_type": "code",
   "execution_count": 6,
   "metadata": {},
   "outputs": [
    {
     "data": {
      "text/plain": [
       "-1"
      ]
     },
     "execution_count": 6,
     "metadata": {},
     "output_type": "execute_result"
    }
   ],
   "source": [
    "# 画一个填充红色的圆，参数 2：圆心坐标，参数 3：半径\n",
    "cv2.circle(img, (447, 63), 63, (0, 0, 255), -1)\n",
    "\n",
    "\n",
    "cv2.imshow('img',img)\n",
    "cv2.waitKey(0)"
   ]
  },
  {
   "cell_type": "markdown",
   "metadata": {},
   "source": [
    "# 画椭圆\n",
    "画椭圆需要的参数比较多，请对照后面的代码理解这几个参数：\n",
    "\n",
    "* 参数 2：椭圆中心(x,y)\n",
    "* 参数 3：x/y 轴的长度\n",
    "* 参数 4：angle---椭圆的旋转角度\n",
    "* 参数 5：startAngle---椭圆的起始角度\n",
    "* 参数 6：endAngle---椭圆的结束角度\n",
    "\n",
    "经验之谈：OpenCV 中原点在左上角，所以这里的角度是以顺时针方向计算的。"
   ]
  },
  {
   "cell_type": "code",
   "execution_count": 12,
   "metadata": {},
   "outputs": [
    {
     "data": {
      "text/plain": [
       "-1"
      ]
     },
     "execution_count": 12,
     "metadata": {},
     "output_type": "execute_result"
    }
   ],
   "source": [
    "# 在图中心画一个填充的半圆\n",
    "cv2.ellipse(img, (256, 256), (100, 50), 0, 0, 180, (255, 0, 0), -1)\n",
    "\n",
    "cv2.imshow('img',img)\n",
    "cv2.waitKey(0)"
   ]
  },
  {
   "cell_type": "markdown",
   "metadata": {},
   "source": [
    "# 画多边形\n",
    "画多边形需要指定一系列多边形的顶点坐标，相当于从第一个点到第二个点画直线，再从第二个点到第三个点画直线....\n",
    "\n",
    "OpenCV 中需要先将多边形的顶点坐标需要变成顶点数 ×1×2 维的矩阵，再来绘制："
   ]
  },
  {
   "cell_type": "code",
   "execution_count": 10,
   "metadata": {},
   "outputs": [
    {
     "data": {
      "text/plain": [
       "-1"
      ]
     },
     "execution_count": 10,
     "metadata": {},
     "output_type": "execute_result"
    }
   ],
   "source": [
    "# 定义四个顶点坐标\n",
    "pts = np.array([[10, 5],  [50, 10], [70, 20], [20, 30]], np.int32)\n",
    "# 顶点个数：4，矩阵变成 4*1*2 维\n",
    "pts = pts.reshape((-1, 1, 2))\n",
    "cv2.polylines(img, [pts], True, (0, 255, 255))\n",
    "\n",
    "# 使用 cv2.polylines() 画多条直线\n",
    "line1 = np.array([[100, 20],  [300, 20]], np.int32).reshape((-1, 1, 2))\n",
    "line2 = np.array([[100, 60],  [300, 60]], np.int32).reshape((-1, 1, 2))\n",
    "line3 = np.array([[100, 100],  [300, 100]], np.int32).reshape((-1, 1, 2))\n",
    "cv2.polylines(img, [line1, line2, line3], True, (0, 255, 255))\n",
    "\n",
    "cv2.imshow('img',img)\n",
    "cv2.waitKey(0)"
   ]
  },
  {
   "cell_type": "markdown",
   "metadata": {},
   "source": [
    "# 添加文字\n",
    "使用cv2.putText()添加文字，它的参数也比较多，同样请对照后面的代码理解这几个参数：\n",
    "\n",
    "* 参数 2：要添加的文本\n",
    "* 参数 3：文字的起始坐标（左下角为起点）\n",
    "* 参数 4：字体\n",
    "* 参数 5：文字大小（缩放比例）"
   ]
  },
  {
   "cell_type": "code",
   "execution_count": 11,
   "metadata": {},
   "outputs": [
    {
     "data": {
      "text/plain": [
       "-1"
      ]
     },
     "execution_count": 11,
     "metadata": {},
     "output_type": "execute_result"
    }
   ],
   "source": [
    "# 添加文字\n",
    "font = cv2.FONT_HERSHEY_SIMPLEX\n",
    "cv2.putText(img, 'ex2tron', (10, 500), font,\n",
    "            4, (255, 255, 255), 2, lineType=cv2.LINE_AA)\n",
    "cv2.imshow('img',img)\n",
    "cv2.waitKey(0)"
   ]
  },
  {
   "cell_type": "markdown",
   "metadata": {},
   "source": [
    "字体可参考：HersheyFonts。另外，这里有个线型 lineType 参数，LINE_AA 表示抗锯齿线型，具体可见LineTypes\n",
    "https://docs.opencv.org/4.0.0/d6/d6e/group__imgproc__draw.html#ga0f9314ea6e35f99bb23f29567fc16e11\n",
    "https://docs.opencv.org/3.3.1/d0/de1/group__core.html#gaf076ef45de481ac96e0ab3dc2c29a777\n"
   ]
  },
  {
   "cell_type": "markdown",
   "metadata": {},
   "source": [
    "# 小结\n",
    "* cv2.line()画直线，cv2.circle()画圆，cv2.rectangle()画矩形，cv2.ellipse()画椭圆，cv2.polylines()画多边形，cv2.putText()添加文字。\n",
    "* 画多条直线时，cv2.polylines()要比cv2.line()高效很多。"
   ]
  },
  {
   "cell_type": "markdown",
   "metadata": {},
   "source": [
    "# 练习\n",
    "你能用已学的绘图功能画出 OpenCV 的 logo 吗？(提示：椭圆和圆)"
   ]
  },
  {
   "cell_type": "code",
   "execution_count": 14,
   "metadata": {},
   "outputs": [],
   "source": [
    "import cv2\n",
    "import numpy as np\n",
    "\n",
    "# 创建一个空白图像\n",
    "image = np.zeros((400, 400, 3), dtype=np.uint8)\n",
    "\n",
    "# 绘制一个椭圆\n",
    "cv2.ellipse(image, (100, 100), (80, 50), 0, 0, 360, (255, 0, 0), 2)\n",
    "\n",
    "# 绘制一个圆形\n",
    "cv2.circle(image, (200, 200), 100, (0, 255, 0), 2)\n",
    "\n",
    "# 显示图像\n",
    "cv2.imshow('OpenCV Logo', image)\n",
    "cv2.waitKey(0)\n",
    "cv2.destroyAllWindows()"
   ]
  }
 ],
 "metadata": {
  "kernelspec": {
   "display_name": "base",
   "language": "python",
   "name": "python3"
  },
  "language_info": {
   "codemirror_mode": {
    "name": "ipython",
    "version": 3
   },
   "file_extension": ".py",
   "mimetype": "text/x-python",
   "name": "python",
   "nbconvert_exporter": "python",
   "pygments_lexer": "ipython3",
   "version": "3.11.4"
  },
  "orig_nbformat": 4
 },
 "nbformat": 4,
 "nbformat_minor": 2
}
