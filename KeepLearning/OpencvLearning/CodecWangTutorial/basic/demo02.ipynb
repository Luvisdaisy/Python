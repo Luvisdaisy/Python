{
 "cells": [
  {
   "cell_type": "markdown",
   "metadata": {},
   "source": [
    "# Target\n",
    "* 打开摄像头并捕获照片\n",
    "* 播放本地视频，录制视频\n",
    "* OpenCV 函数：cv2.VideoCapture(), cv2.VideoWriter()"
   ]
  },
  {
   "cell_type": "code",
   "execution_count": 1,
   "metadata": {},
   "outputs": [],
   "source": [
    "import cv2"
   ]
  },
  {
   "cell_type": "markdown",
   "metadata": {},
   "source": [
    "# 打开摄像头\n",
    "要使用摄像头，需要使用cv2.VideoCapture(0)创建 VideoCapture 对象，参数 0 指的是摄像头的编号，如果你电脑上有两个摄像头的话，访问第 2 个摄像头就可以传入 1，依此类推。"
   ]
  },
  {
   "cell_type": "code",
   "execution_count": 2,
   "metadata": {},
   "outputs": [],
   "source": [
    "capture=cv2.VideoCapture(0)\n",
    "\n",
    "# width,height=capture.get(3),capture.get(4)\n",
    "# print(width,height)\n",
    "# capture.set(cv2.CAP_PROP_FRAME_WIDTH,width*2)\n",
    "# capture.set(cv2.CAP_PROP_FRAME_HEIGHT,height*2)\n",
    "\n",
    "while(True):\n",
    "  ret,frame=capture.read()\n",
    "  gray=cv2.cvtColor(frame,cv2.COLOR_BGR2GRAY)\n",
    "  cv2.imshow('frame',gray)\n",
    "  if cv2.waitKey(1)==ord('q'):\n",
    "    cv2.destroyAllWindows()\n",
    "    break"
   ]
  },
  {
   "cell_type": "markdown",
   "metadata": {},
   "source": [
    "capture.read()函数返回的第 1 个参数 ret(return value 缩写) 是一个布尔值，表示当前这一帧是否获取正确。cv2.cvtColor()用来转换颜色，这里将彩色图转成灰度图。\n",
    "\n",
    "另外，通过cap.get(propId)可以获取摄像头的一些属性，比如捕获的分辨率，亮度和对比度等。propId 是从 0~18 的数字，代表不同的属性，完整的属性列表可以参考：VideoCaptureProperties。也可以使用cap.set(propId,value)来修改属性值。比如说，我们在 while 之前添加下面的代码：\n",
    "\n",
    "width,height=capture.get(3),capture.get(4)\n",
    "print(width,height)\n",
    "capture.set(cv2.CAP_PROP_FRAME_WIDTH,width*2)\n",
    "capture.set(cv2.CAP_PROP_FRAME_HEIGHT,height*2)"
   ]
  },
  {
   "cell_type": "markdown",
   "metadata": {},
   "source": [
    "经验之谈：某些摄像头设定分辨率等参数时会无效，因为它有固定的分辨率大小支持，一般可在摄像头的资料页中找到。"
   ]
  },
  {
   "cell_type": "markdown",
   "metadata": {},
   "source": [
    "检查完整的属性列表\n",
    "https://docs.opencv.org/4.0.0/d4/d15/group__videoio__flags__base.html#gaeb8dd9c89c10a5c63c139bf7c4f5704d"
   ]
  },
  {
   "cell_type": "markdown",
   "metadata": {},
   "source": [
    "# 播放本地视频\n",
    "跟打开摄像头一样，如果把摄像头的编号换成视频的路径就可以播放本地视频了。回想一下cv2.waitKey()，它的参数表示暂停时间，所以这个值越大，视频播放速度越慢，反之，播放速度越快，通常设置为 25 或 30。"
   ]
  },
  {
   "cell_type": "code",
   "execution_count": 3,
   "metadata": {},
   "outputs": [],
   "source": [
    "capture=cv2.VideoCapture('./videos/keyinlife.mp4')\n",
    "\n",
    "while(capture.isOpened):\n",
    "  ret,frame=capture.read()\n",
    "  gray=cv2.cvtColor(frame,cv2.COLOR_BGR2GRAY)\n",
    "\n",
    "  cv2.imshow('frame',gray)\n",
    "  if cv2.waitKey(30)==ord('q'):\n",
    "    cv2.destroyAllWindows()\n",
    "    break"
   ]
  },
  {
   "cell_type": "markdown",
   "metadata": {},
   "source": [
    "# 录制视频\n",
    "之前我们保存图片用的是cv2.imwrite()，要保存视频，我们需要创建一个VideoWriter的对象，需要给它传入四个参数：\n",
    "\n",
    "* 输出的文件名，如'output.avi'\n",
    "* 编码方式FourCC码\n",
    "* 帧率FPS\n",
    "* 要保存的分辨率大小\n",
    "\n",
    "FourCC 是用来指定视频编码方式的四字节码，所有的编码可参考Video Codecs。https://fourcc.org/codecs.php\n",
    "\n",
    "如 MJPG 编码可以这样写： cv2.VideoWriter_fourcc(*'MJPG')或cv2.VideoWriter_fourcc('M','J','P','G')"
   ]
  },
  {
   "cell_type": "code",
   "execution_count": 6,
   "metadata": {},
   "outputs": [],
   "source": [
    "capture= cv2.VideoCapture(0)\n",
    "\n",
    "fourcc=cv2.VideoWriter_fourcc(*'MJPG')\n",
    "outfile=cv2.VideoWriter('./videos/output.avi',fourcc,25,(640,480))\n",
    "\n",
    "while(capture.isOpened()):\n",
    "  ret,frame=capture.read()\n",
    "\n",
    "  if ret:\n",
    "    outfile.write(frame)\n",
    "    cv2.imshow('frame',frame)\n",
    "    if cv2.waitKey(1)==ord('q'):\n",
    "      cv2.destroyAllWindows()\n",
    "      break\n",
    "    else:\n",
    "      cv2.destroyAllWindows()\n",
    "      break"
   ]
  },
  {
   "cell_type": "markdown",
   "metadata": {},
   "source": [
    "# 小结\n",
    "* 使用cv2.VideoCapture()创建视频对象，然后在循环中一帧帧显示图像。参数传入数字时，代表打开摄像头，传入本地视频路径时，表示播放本地视频。\n",
    "* cap.get(propId)获取视频属性，cap.set(propId,value)设置视频属性。\n",
    "* cv2.VideoWriter()创建视频写入对象，用来录制/保存视频。"
   ]
  },
  {
   "cell_type": "markdown",
   "metadata": {},
   "source": [
    "# 练习 \n",
    "实现一个可以拖动滑块播放视频的功能。（提示：需要用到 cv2.CAP_PROP_FRAME_COUNT和cv2.CAP_PROP_POS_FRAMES两个属性）。"
   ]
  },
  {
   "cell_type": "markdown",
   "metadata": {},
   "source": [
    "# 滑动条的使用\n",
    "首先我们需要创建一个滑动条，如cv2.createTrackbar('R','image',0,255,call_back)，其中\n",
    "\n",
    "* 参数 1：滑动条的名称\n",
    "* 参数 2：所在窗口的名称\n",
    "* 参数 3：当前的值\n",
    "* 参数 4：最大值\n",
    "* 参数 5：回调函数名称，回调函数默认有一个表示当前值的参数\n",
    "\n",
    "创建好之后，可以在回调函数中获取滑动条的值，也可以用：cv2.getTrackbarPos()得到，其中，参数 1 是滑动条的名称，参数 2 是窗口的名称。"
   ]
  },
  {
   "cell_type": "markdown",
   "metadata": {},
   "source": [
    "# RGB 调色板\n"
   ]
  },
  {
   "cell_type": "code",
   "execution_count": 7,
   "metadata": {},
   "outputs": [
    {
     "ename": "",
     "evalue": "",
     "output_type": "error",
     "traceback": [
      "\u001b[1;31m在当前单元格或上一个单元格中执行代码时 Kernel 崩溃。请查看单元格中的代码，以确定故障的可能原因。有关详细信息，请单击 <a href='https://aka.ms/vscodeJupyterKernelCrash'>此处</a>。有关更多详细信息，请查看 Jupyter <a href='command:jupyter.viewOutput'>log</a>。"
     ]
    }
   ],
   "source": [
    "import cv2\n",
    "import numpy as np\n",
    "\n",
    "def nothing(x):\n",
    "  pass\n",
    "img=np.zeros((300,512,3),np.uint8)\n",
    "cv2.namedWindow('image')\n",
    "\n",
    "cv2.createTrackbar('R','image',0,255,nothing)\n",
    "cv2.createTrackbar('G','image',0,255,nothing)\n",
    "cv2.createTrackbar('B','image',0,255,nothing)\n",
    "\n",
    "while(True):\n",
    "  cv2.imshow('image',img)\n",
    "  if cv2.waitKey(1)==ord('q'):\n",
    "    break\n",
    "\n",
    "  r=cv2.getTrackbarPos('R','image')\n",
    "  g=cv2.getTrackbarPos('G','image')\n",
    "  b=cv2.getTrackbarPos('B','image')\n",
    "\n",
    "  img[:]=[b,g,r]"
   ]
  },
  {
   "cell_type": "markdown",
   "metadata": {},
   "source": [
    "# 小结\n",
    "cv2.createTrackbar()用来创建滑动条，可以在回调函数中或使用cv2.getTrackbarPos()得到滑块的位置"
   ]
  }
 ],
 "metadata": {
  "kernelspec": {
   "display_name": "base",
   "language": "python",
   "name": "python3"
  },
  "language_info": {
   "codemirror_mode": {
    "name": "ipython",
    "version": 3
   },
   "file_extension": ".py",
   "mimetype": "text/x-python",
   "name": "python",
   "nbconvert_exporter": "python",
   "pygments_lexer": "ipython3",
   "version": "3.11.4"
  },
  "orig_nbformat": 4
 },
 "nbformat": 4,
 "nbformat_minor": 2
}
