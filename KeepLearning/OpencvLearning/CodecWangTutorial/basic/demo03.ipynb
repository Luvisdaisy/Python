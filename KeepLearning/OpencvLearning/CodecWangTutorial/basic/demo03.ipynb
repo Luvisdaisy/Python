{
 "cells": [
  {
   "cell_type": "markdown",
   "metadata": {},
   "source": [
    "# 04: 图像基本操作\n",
    "学习获取和修改像素点的值，ROI 感兴趣区域，通道分离合并等基本操作。图片等可到文末引用处下载。\n",
    "\n",
    "# 目标\n",
    "* 访问和修改图片像素点的值\n",
    "* 获取图片的宽、高、通道数等属性\n",
    "* 了解感兴趣区域 ROI\n",
    "* 分离和合并图像通道\n",
    "\n",
    "# 教程\n",
    "获取和修改像素点值"
   ]
  },
  {
   "cell_type": "code",
   "execution_count": 4,
   "metadata": {},
   "outputs": [],
   "source": [
    "import cv2\n",
    "\n",
    "img = cv2.imread('./imgs/lena.png')"
   ]
  },
  {
   "cell_type": "markdown",
   "metadata": {},
   "source": [
    "通过行列的坐标来获取某像素点的值，对于彩色图，结果是 B,G,R 三个值的列表，对于灰度图或单通道图，只有一个值："
   ]
  },
  {
   "cell_type": "code",
   "execution_count": 5,
   "metadata": {},
   "outputs": [
    {
     "name": "stdout",
     "output_type": "stream",
     "text": [
      "[ 84  70 174]\n",
      "84\n"
     ]
    }
   ],
   "source": [
    "px = img[100, 90]\n",
    "print(px)  # [103 98 197]\n",
    "\n",
    "# 只获取蓝色 blue 通道的值\n",
    "px_blue = img[100, 90, 0]\n",
    "print(px_blue)  # 103"
   ]
  },
  {
   "cell_type": "markdown",
   "metadata": {},
   "source": [
    "还记得吗？行对应 y，列对应 x，所以其实是img[y, x]，需要注意噢(●ˇ∀ˇ●)。容易混淆的话，可以只记行和列，行在前，列在后。\n",
    "\n",
    "修改像素的值也是同样的方式："
   ]
  },
  {
   "cell_type": "code",
   "execution_count": 6,
   "metadata": {},
   "outputs": [
    {
     "name": "stdout",
     "output_type": "stream",
     "text": [
      "[255 255 255]\n"
     ]
    }
   ],
   "source": [
    "img[100,90]=[255,255,255]\n",
    "print(img[100,90])\n",
    "# cv2.imshow('image',img) # 为什么会崩溃"
   ]
  },
  {
   "cell_type": "markdown",
   "metadata": {},
   "source": [
    "经验之谈：还有一种性能更好的方式，获取：img.item(100,100,0)，修改：img.itemset((100,100,0),255)，但这种方式只能 B,G,R 逐一进行。\n",
    "\n",
    "注意：这步操作只是内存中的 img 像素点值变了，因为没有保存，所以原图并没有更改"
   ]
  },
  {
   "cell_type": "markdown",
   "metadata": {},
   "source": [
    "# 图片属性\n",
    "img.shape获取图像的形状，图片是彩色的话，返回一个包含行数（高度）、列数（宽度）和通道数的元组，灰度图只返回行数和列数："
   ]
  },
  {
   "cell_type": "code",
   "execution_count": 7,
   "metadata": {},
   "outputs": [
    {
     "name": "stdout",
     "output_type": "stream",
     "text": [
      "(512, 512, 3)\n",
      "512 512 3\n",
      "uint8\n",
      "786432\n"
     ]
    }
   ],
   "source": [
    "print(img.shape)\n",
    "height,width,channels=img.shape\n",
    "print(height,width,channels)\n",
    "\n",
    "print(img.dtype)\n",
    "\n",
    "print(img.size)"
   ]
  },
  {
   "cell_type": "markdown",
   "metadata": {},
   "source": [
    "经验之谈：多数错误是因为数据类型不对导致的，所以健壮的代码应该对这个属性加以判断。"
   ]
  },
  {
   "cell_type": "markdown",
   "metadata": {},
   "source": [
    "# ROI\n",
    "ROI：Region of Interest，感兴趣区域。什么意思呢？比如我们要检测眼睛，因为眼睛肯定在脸上，所以我们感兴趣的只有脸这部分，其他都不 care，所以可以单独把脸截取出来，这样就可以大大节省计算量，提高运行速度。\n",
    "\n",
    "截取 ROI 非常简单，指定图片的范围即可（后面我们学了特征后，就可以自动截取辣，(ง •_•)ง）："
   ]
  },
  {
   "cell_type": "code",
   "execution_count": 9,
   "metadata": {},
   "outputs": [
    {
     "data": {
      "text/plain": [
       "-1"
      ]
     },
     "execution_count": 9,
     "metadata": {},
     "output_type": "execute_result"
    }
   ],
   "source": [
    "face=img[100:200,115:188]\n",
    "cv2.imshow('face',face)\n",
    "cv2.waitKey(0)"
   ]
  },
  {
   "cell_type": "markdown",
   "metadata": {},
   "source": [
    "# 通道分割与合并\n",
    "彩色图的 BGR 三个通道是可以分开单独访问的，也可以将单独的三个通道合并成一副图像。分别使用cv2.split()和cv2.merge()："
   ]
  },
  {
   "cell_type": "code",
   "execution_count": 10,
   "metadata": {},
   "outputs": [],
   "source": [
    "b,g,r=cv2.split(img)\n",
    "img=cv2.merge((b,g,r))"
   ]
  },
  {
   "cell_type": "markdown",
   "metadata": {},
   "source": [
    "split()函数比较耗时，更高效的方式是用 numpy 中的索引，如提取 B 通道"
   ]
  },
  {
   "cell_type": "code",
   "execution_count": 19,
   "metadata": {},
   "outputs": [
    {
     "data": {
      "text/plain": [
       "-1"
      ]
     },
     "execution_count": 19,
     "metadata": {},
     "output_type": "execute_result"
    }
   ],
   "source": [
    "b=img[:,:,0]\n",
    "cv2.imshow('blue',b)\n",
    "cv2.waitKey(0)\n",
    "\n",
    "g=img[:,:,1]\n",
    "cv2.imshow('green',g)\n",
    "cv2.waitKey(0)\n",
    "\n",
    "r=img[:,:,2]\n",
    "cv2.imshow('red',r)\n",
    "cv2.waitKey(0)"
   ]
  },
  {
   "cell_type": "markdown",
   "metadata": {},
   "source": [
    "# 小结\n",
    "* img[y,x]获取/设置像素点值\n",
    "  img.shape：图片的形状（行数、列数、通道数）\n",
    "  img.dtype：图像的数据类型。\n",
    "* img[y1:y2,x1:x2]进行 ROI 截取\n",
    "  cv2.split()/cv2.merge()通道分割/合并。\n",
    "  更推荐的获取单通道方式：b = img[:, :, 0]。"
   ]
  },
  {
   "cell_type": "markdown",
   "metadata": {},
   "source": [
    "# 练习\n",
    "打开 lena.jpg，将帽子部分（高：25~120，宽：50~220）的红色通道截取出来并显示。"
   ]
  },
  {
   "cell_type": "code",
   "execution_count": 20,
   "metadata": {},
   "outputs": [
    {
     "data": {
      "text/plain": [
       "-1"
      ]
     },
     "execution_count": 20,
     "metadata": {},
     "output_type": "execute_result"
    },
    {
     "ename": "",
     "evalue": "",
     "output_type": "error",
     "traceback": [
      "\u001b[1;31m在当前单元格或上一个单元格中执行代码时 Kernel 崩溃。请查看单元格中的代码，以确定故障的可能原因。有关详细信息，请单击 <a href='https://aka.ms/vscodeJupyterKernelCrash'>此处</a>。有关更多详细信息，请查看 Jupyter <a href='command:jupyter.viewOutput'>log</a>。"
     ]
    }
   ],
   "source": [
    "img=cv2.imread('./imgs/lena.png')\n",
    "hat=img[25:120,50:220]\n",
    "r=hat[:,:,1]\n",
    "cv2.imshow('hat_r',r)\n",
    "cv2.waitKey(0)"
   ]
  }
 ],
 "metadata": {
  "kernelspec": {
   "display_name": "base",
   "language": "python",
   "name": "python3"
  },
  "language_info": {
   "codemirror_mode": {
    "name": "ipython",
    "version": 3
   },
   "file_extension": ".py",
   "mimetype": "text/x-python",
   "name": "python",
   "nbconvert_exporter": "python",
   "pygments_lexer": "ipython3",
   "version": "3.11.4"
  },
  "orig_nbformat": 4
 },
 "nbformat": 4,
 "nbformat_minor": 2
}
