{
 "cells": [
  {
   "cell_type": "markdown",
   "metadata": {},
   "source": [
    "# 挑战任务：画动态时钟\n",
    "挑战任务：使用 OpenCV 绘制一个随系统时间动态变化的时钟"
   ]
  }
 ],
 "metadata": {
  "kernelspec": {
   "display_name": "base",
   "language": "python",
   "name": "python3"
  },
  "language_info": {
   "name": "python",
   "version": "3.7.6 (default, Jan  8 2020, 20:23:39) [MSC v.1916 64 bit (AMD64)]"
  },
  "orig_nbformat": 4,
  "vscode": {
   "interpreter": {
    "hash": "42841229b10ceb8793c9fcb9d3defb21572612f32554233fda32386a4d1d591c"
   }
  }
 },
 "nbformat": 4,
 "nbformat_minor": 2
}
