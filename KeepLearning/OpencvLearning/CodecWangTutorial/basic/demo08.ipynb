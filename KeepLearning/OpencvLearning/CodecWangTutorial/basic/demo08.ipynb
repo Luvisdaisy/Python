{
 "cells": [
  {
   "cell_type": "markdown",
   "metadata": {},
   "source": [
    "# 挑战任务：画动态时钟\n",
    "挑战任务：使用 OpenCV 绘制一个随系统时间动态变化的时钟"
   ]
  }
 ],
 "metadata": {
  "language_info": {
   "name": "python"
  },
  "orig_nbformat": 4
 },
 "nbformat": 4,
 "nbformat_minor": 2
}
