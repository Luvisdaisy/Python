{
 "cells": [
  {
   "cell_type": "code",
   "execution_count": 2,
   "metadata": {},
   "outputs": [],
   "source": [
    "import random\n",
    "import time"
   ]
  },
  {
   "cell_type": "code",
   "execution_count": 3,
   "metadata": {},
   "outputs": [
    {
     "name": "stdout",
     "output_type": "stream",
     "text": [
      "DownloadingPython从入门到住院.pdf.\n",
      "Finished downloadingPython从入门到住院.pdf.\n",
      "Time taken to download3.001 seconds.\n",
      "DownloadingMySQL从删库到跑路.avi.\n",
      "Finished downloadingMySQL从删库到跑路.avi.\n",
      "Time taken to download6.001 seconds.\n",
      "DownloadingLinux从精通到放弃.mp4.\n",
      "Finished downloadingLinux从精通到放弃.mp4.\n",
      "Time taken to download5.001 seconds.\n",
      "Total time taken to download14.003 seconds.\n"
     ]
    }
   ],
   "source": [
    "# 不使用多线程\n",
    "def download(*,filename):\n",
    "  start=time.time()\n",
    "  print(f\"Downloading{filename}.\")\n",
    "  time.sleep(random.randint(3,6))\n",
    "  print(f\"Finished downloading{filename}.\")\n",
    "  end=time.time()\n",
    "  print(f\"Time taken to download{end-start:.3f} seconds.\")\n",
    "  \n",
    "def main():\n",
    "  start=time.time()\n",
    "  download(filename='Python从入门到住院.pdf')\n",
    "  download(filename='MySQL从删库到跑路.avi')\n",
    "  download(filename='Linux从精通到放弃.mp4')\n",
    "  end=time.time()\n",
    "  print(f\"Total time taken to download{end-start:.3f} seconds.\")\n",
    "\n",
    "if __name__ == \"__main__\":\n",
    "  main()"
   ]
  },
  {
   "cell_type": "code",
   "execution_count": 4,
   "metadata": {},
   "outputs": [
    {
     "name": "stdout",
     "output_type": "stream",
     "text": [
      "开始下载Python从入门到住院.pdf\n",
      "开始下载MySQL从删库到跑路.avi\n",
      "开始下载Linux从精通到放弃.mp4\n",
      "Linux从精通到放弃.mp4下载完成\n",
      "下载耗时5.002秒\n",
      "Python从入门到住院.pdf下载完成\n",
      "下载耗时6.002秒\n",
      "MySQL从删库到跑路.avi下载完成\n",
      "下载耗时6.001秒\n",
      "总耗时: 6.003秒.\n"
     ]
    }
   ],
   "source": [
    "# 多线程\n",
    "from threading import Thread\n",
    "\n",
    "def download(*,filename):\n",
    "  start=time.time()\n",
    "  print(f'开始下载{filename}')\n",
    "  time.sleep(random.randint(3,6))\n",
    "  print(f'{filename}下载完成')\n",
    "  end=time.time()\n",
    "  print(f'下载耗时{end-start:.3f}秒')\n",
    "  \n",
    "def main():\n",
    "  threads=[\n",
    "        Thread(target=download, kwargs={'filename': 'Python从入门到住院.pdf'}),\n",
    "        Thread(target=download, kwargs={'filename': 'MySQL从删库到跑路.avi'}),\n",
    "        Thread(target=download, kwargs={'filename': 'Linux从精通到放弃.mp4'})\n",
    "  ]\n",
    "  start=time.time()\n",
    "  for thread in threads:\n",
    "    thread.start()\n",
    "  for thread in threads:\n",
    "    thread.join()\n",
    "  end=time.time()\n",
    "  print(f'总耗时: {end - start:.3f}秒.')\n",
    "  \n",
    "if __name__=='__main__':\n",
    "  main()"
   ]
  },
  {
   "cell_type": "code",
   "execution_count": 5,
   "metadata": {},
   "outputs": [
    {
     "name": "stdout",
     "output_type": "stream",
     "text": [
      "downloading Python从入门到住院.pdf\n",
      "downloading MySQL从删库到跑路.avi\n",
      "downloading Linux从精通到放弃.mp4\n",
      "finished downloading Linux从精通到放弃.mp4\n",
      "time elapsed 4.002 seconds\n",
      "finished downloading MySQL从删库到跑路.avi\n",
      "time elapsed 5.001 seconds\n",
      "finished downloading Python从入门到住院.pdf\n",
      "time elapsed 6.003 seconds\n",
      "total time taken: 6.003 seconds\n"
     ]
    }
   ],
   "source": [
    "# 继承 Thread 类自定义线程\n",
    "\n",
    "class DownloadThread(Thread):\n",
    "  def __init__(self,filename):\n",
    "    self.filename = filename\n",
    "    super().__init__()\n",
    "    \n",
    "  def run(self):\n",
    "    start=time.time()\n",
    "    print(f'downloading {self.filename}')\n",
    "    time.sleep(random.randint(3,6))\n",
    "    print(f'finished downloading {self.filename}')\n",
    "    end=time.time()\n",
    "    print(f'time elapsed {end-start:.3f} seconds') \n",
    "    \n",
    "def main():\n",
    "  threads=[\n",
    "        DownloadThread('Python从入门到住院.pdf'),\n",
    "        DownloadThread('MySQL从删库到跑路.avi'),\n",
    "        DownloadThread('Linux从精通到放弃.mp4')\n",
    "  ] \n",
    "  start=time.time()\n",
    "  for thread in threads:\n",
    "    thread.start()\n",
    "  for thread in threads:\n",
    "    thread.join()\n",
    "  end=time.time()\n",
    "  print(f'total time taken: {end-start:.3f} seconds')\n",
    "  \n",
    "if __name__=='__main__':\n",
    "  main()"
   ]
  },
  {
   "cell_type": "code",
   "execution_count": 6,
   "metadata": {},
   "outputs": [
    {
     "name": "stdout",
     "output_type": "stream",
     "text": [
      "DownloadingPython从入门到住院.pdf\n",
      "DownloadingMySQL从删库到跑路.avi\n",
      "DownloadingLinux从精通到放弃.mp4\n",
      "Finished downloadingMySQL从删库到跑路.avi\n",
      "Time to download 3.001 seconds\n",
      "Finished downloadingPython从入门到住院.pdf\n",
      "Time to download 3.004 seconds\n",
      "Finished downloadingLinux从精通到放弃.mp4\n",
      "Time to download 6.002 seconds\n",
      "Finished downloading 6.005 seconds\n"
     ]
    }
   ],
   "source": [
    "# 使用线程池\n",
    "from concurrent.futures import ThreadPoolExecutor\n",
    "\n",
    "def download(*,filename):\n",
    "  start=time.time()\n",
    "  print(f\"Downloading{filename}\")\n",
    "  time.sleep(random.randint(3,6))\n",
    "  print(f\"Finished downloading{filename}\")\n",
    "  end=time.time()\n",
    "  print(f\"Time to download {end-start:.3f} seconds\")\n",
    "  \n",
    "def main():\n",
    "  with ThreadPoolExecutor(max_workers=4) as pool:\n",
    "    filenames=['Python从入门到住院.pdf', 'MySQL从删库到跑路.avi', 'Linux从精通到放弃.mp4']\n",
    "    start =time.time()\n",
    "    for filename in filenames:\n",
    "      pool.submit(download,filename=filename)\n",
    "  end=time.time()\n",
    "  print(f\"Finished downloading {end-start:.3f} seconds\")  \n",
    "  \n",
    "if __name__ == \"__main__\":\n",
    "  main()"
   ]
  },
  {
   "cell_type": "code",
   "execution_count": 7,
   "metadata": {},
   "outputs": [
    {
     "name": "stdout",
     "output_type": "stream",
     "text": [
      "PingPong"
     ]
    }
   ],
   "source": [
    "# 守护线程\n",
    "def display(content):\n",
    "    while True:\n",
    "        print(content, end='', flush=True)\n",
    "        time.sleep(0.1)\n",
    "\n",
    "\n",
    "def main():\n",
    "    Thread(target=display, args=('Ping', )).start()\n",
    "    Thread(target=display, args=('Pong', )).start()\n",
    "\n",
    "\n",
    "if __name__ == '__main__':\n",
    "    main()"
   ]
  },
  {
   "cell_type": "code",
   "execution_count": 8,
   "metadata": {},
   "outputs": [
    {
     "name": "stdout",
     "output_type": "stream",
     "text": [
      "PingPongPongPingPingPongPingPongPingPongPongPingPingPongPingPongPingPongPingPongPingPongPongPingPongPingPongPingPongPingPongPingPongPingPingPongPongPingPingPongPongPingPongPingPongPingPingPongPongPingPongPingPongPingPingPongPongPingPongPingPongPingPongPingPongPingPongPingPingPongPongPingPingPongPongPingPongPingPongPingPongPingPongPingPingPongPongPingPongPingPongPingPongPingPongPingPongPingPongPingPongPingPongPingPongPingPongPingPongPingPongPingPingPongPongPingPongPingPongPingPongPingPongPingPingPongPongPingPongPingPongPingPongPingPongPingPongPingPongPingPongPingPingPongPongPingPongPingPongPingPongPingPongPingPongPingPongPingPongPingPongPingPongPingPongPingPongPingPongPingPingPongPongPingPingPongPingPongPongPingPingPongPingPongPongPingPongPingPongPingPongPingPongPingPingPongPingPong"
     ]
    }
   ],
   "source": [
    "def display(content):\n",
    "    while True:\n",
    "        print(content, end='', flush=True)\n",
    "        time.sleep(0.1)\n",
    "\n",
    "\n",
    "def main():\n",
    "    Thread(target=display, args=('Ping', ), daemon=True).start()\n",
    "    Thread(target=display, args=('Pong', ), daemon=True).start()\n",
    "    time.sleep(5)\n",
    "\n",
    "\n",
    "if __name__ == '__main__':\n",
    "    main()"
   ]
  },
  {
   "attachments": {},
   "cell_type": "markdown",
   "metadata": {},
   "source": [
    "```\n",
    "思考：如果将上面代码第12行的daemon=True去掉，代码会怎样执行？有兴趣的读者可以尝试一下，并看看实际执行的结果跟你想象的是否一致。\n",
    "\n",
    "由于Thread Pong是非守护线程，在main主线程结束后，Thread Ping 仍要等待Thread Pong执行完毕，而后者无限循环，因此两个线程继续无限循环执行\n",
    "```"
   ]
  },
  {
   "cell_type": "code",
   "execution_count": 17,
   "metadata": {},
   "outputs": [
    {
     "name": "stdout",
     "output_type": "stream",
     "text": [
      "7.0\n"
     ]
    }
   ],
   "source": [
    "import time\n",
    "\n",
    "from concurrent.futures import ThreadPoolExecutor\n",
    "# 资源竞争\n",
    "\n",
    "class Account(object):\n",
    "  \"\"\"银行账户\"\"\"\n",
    "  def __init__(self):\n",
    "    self.balance = 0.0\n",
    "    \n",
    "  def deposit(self,money):\n",
    "    \"\"\"存钱\"\"\"\n",
    "    new_balance = self.balance+money\n",
    "    time.sleep(0.01)\n",
    "    self.balance = new_balance\n",
    "    \n",
    "def main():\n",
    "  account=Account()\n",
    "  with ThreadPoolExecutor(max_workers=16) as pool:\n",
    "    for _ in range(100):\n",
    "      pool.submit(account.deposit,1)\n",
    "  print(account.balance)\n",
    "  \n",
    "if __name__ == \"__main__\":\n",
    "  main()"
   ]
  },
  {
   "cell_type": "code",
   "execution_count": 18,
   "metadata": {},
   "outputs": [
    {
     "name": "stdout",
     "output_type": "stream",
     "text": [
      "100.0\n"
     ]
    }
   ],
   "source": [
    "import time\n",
    "\n",
    "from concurrent.futures import ThreadPoolExecutor\n",
    "from threading import RLock\n",
    "\n",
    "\n",
    "class Account(object):\n",
    "    \"\"\"银行账户\"\"\"\n",
    "\n",
    "    def __init__(self):\n",
    "        self.balance = 0.0\n",
    "        self.lock = RLock()\n",
    "\n",
    "    def deposit(self, money):\n",
    "        # 获得锁\n",
    "        self.lock.acquire()\n",
    "        try:\n",
    "            new_balance = self.balance + money\n",
    "            time.sleep(0.01)\n",
    "            self.balance = new_balance\n",
    "        finally:\n",
    "            # 释放锁\n",
    "            self.lock.release()\n",
    "            \n",
    "# a better way to go           \n",
    "def deposit(self, money):\n",
    "  # 通过上下文语法获得锁和释放锁\n",
    "    with self.lock:\n",
    "        new_balance = self.balance + money\n",
    "        time.sleep(0.01)\n",
    "        self.balance = new_balance\n",
    "\n",
    "\n",
    "def main():\n",
    "    \"\"\"主函数\"\"\"\n",
    "    account = Account()\n",
    "    with ThreadPoolExecutor(max_workers=16) as pool:\n",
    "        for _ in range(100):\n",
    "            pool.submit(account.deposit, 1)\n",
    "    print(account.balance)\n",
    "\n",
    "\n",
    "if __name__ == '__main__':\n",
    "    main()"
   ]
  }
 ],
 "metadata": {
  "kernelspec": {
   "display_name": "base",
   "language": "python",
   "name": "python3"
  },
  "language_info": {
   "codemirror_mode": {
    "name": "ipython",
    "version": 3
   },
   "file_extension": ".py",
   "mimetype": "text/x-python",
   "name": "python",
   "nbconvert_exporter": "python",
   "pygments_lexer": "ipython3",
   "version": "3.11.4"
  },
  "orig_nbformat": 4,
  "vscode": {
   "interpreter": {
    "hash": "42841229b10ceb8793c9fcb9d3defb21572612f32554233fda32386a4d1d591c"
   }
  }
 },
 "nbformat": 4,
 "nbformat_minor": 2
}
