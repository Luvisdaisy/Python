{
 "cells": [
  {
   "attachments": {},
   "cell_type": "markdown",
   "metadata": {},
   "source": [
    "# 对评论部分的数据分析\n",
    "1. 对每部电影进行评论词云分析，查看特征\n",
    "2. 对每部电影进行用户评分分析，查看评分占比\n",
    "3. 根据用户对一部电影的综合评分对这些电影进行排名\n",
    "4. 查询评论最多的用户找出前十位，\n",
    "5. 对这几位用户的评论进行分词分析查看该结果能否一定程度上表现用户特征"
   ]
  },
  {
   "attachments": {},
   "cell_type": "markdown",
   "metadata": {},
   "source": [
    " 导入库"
   ]
  },
  {
   "cell_type": "code",
   "execution_count": null,
   "metadata": {},
   "outputs": [],
   "source": [
    "from pymongo import MongoClient\n",
    "import pandas as pd\n",
    "import matplotlib.pyplot as plt\n",
    "import warnings\n",
    "import jieba\n",
    "from wordcloud import WordCloud\n",
    "'''\n",
    "配置\n",
    "1.中文乱码\n",
    "2.尺寸\n",
    "3.风格配置\n",
    "4.忽略警告信息\n",
    "'''\n",
    "plt.rcParams['axes.unicode_minus'] = False\n",
    "plt.rcParams['figure.figsize'] = 20,6\n",
    "plt.rcParams['figure.dpi'] = 200\n",
    "warnings.filterwarnings('ignore')\n"
   ]
  },
  {
   "attachments": {},
   "cell_type": "markdown",
   "metadata": {},
   "source": [
    "连接数据库"
   ]
  },
  {
   "cell_type": "code",
   "execution_count": null,
   "metadata": {},
   "outputs": [],
   "source": [
    "client = MongoClient('mongodb://localhost:27017/')\n",
    "db = client['doubantop250_db']\n",
    "info_collection = db['movie_info_collection']\n",
    "review_collection = db['movie_review_collection']"
   ]
  },
  {
   "attachments": {},
   "cell_type": "markdown",
   "metadata": {},
   "source": [
    "设置停用词"
   ]
  },
  {
   "cell_type": "code",
   "execution_count": null,
   "metadata": {},
   "outputs": [],
   "source": [
    "stopwords=[]\n",
    "with open('./stop_words.txt','r',encoding='utf-8') as f:\n",
    "  for line in f:\n",
    "    stopwords.append(line.strip())"
   ]
  },
  {
   "attachments": {},
   "cell_type": "markdown",
   "metadata": {},
   "source": [
    "处理、合并数据"
   ]
  },
  {
   "cell_type": "code",
   "execution_count": null,
   "metadata": {},
   "outputs": [],
   "source": [
    "#读取电影数据，拿到电影名称\n",
    "info_result=info_collection.find()\n",
    "info_dataframe=pd.DataFrame(info_result)\n",
    "movie_dataframe=info_dataframe[['id','title']]\n",
    "movie_dataframe = movie_dataframe.rename(columns={'id': 'movie_id'})\n",
    "print(movie_dataframe)"
   ]
  },
  {
   "cell_type": "code",
   "execution_count": null,
   "metadata": {},
   "outputs": [],
   "source": [
    "# 读取评论数据\n",
    "results = review_collection.find()\n",
    "review_dataframe = pd.DataFrame(results)\n",
    "# string -> float\n",
    "review_dataframe['user_rating'] = review_dataframe['user_rating'].astype(float)\n",
    "# 去除从数据库中提取出来的_id列\n",
    "review_dataframe = review_dataframe.drop('_id', axis=1)\n",
    "print(review_dataframe)\n"
   ]
  },
  {
   "cell_type": "code",
   "execution_count": null,
   "metadata": {},
   "outputs": [],
   "source": [
    "#设置movie_id为索引\n",
    "review_df_id_index=review_dataframe.set_index('movie_id')\n",
    "print(review_df_id_index)"
   ]
  },
  {
   "cell_type": "code",
   "execution_count": null,
   "metadata": {},
   "outputs": [],
   "source": [
    "#合并电影名和评论\n",
    "movie_review_dataframe=pd.merge(movie_dataframe,review_dataframe,left_on='movie_id',right_on='movie_id')\n",
    "print(movie_review_dataframe)"
   ]
  },
  {
   "attachments": {},
   "cell_type": "markdown",
   "metadata": {},
   "source": [
    "# 对每部电影进行评论词云分析，查看特征"
   ]
  },
  {
   "attachments": {},
   "cell_type": "markdown",
   "metadata": {},
   "source": [
    "词云生成方法"
   ]
  },
  {
   "cell_type": "code",
   "execution_count": null,
   "metadata": {},
   "outputs": [],
   "source": [
    "def wc(text):\n",
    "  seg_list=jieba.cut(text)\n",
    "  filtered_words=[word for word in seg_list if word not in stopwords]\n",
    "  filtered_text=' '.join(filtered_words)\n",
    "  wordcloud=WordCloud(font_path='./msyh.ttf',width=800,height=400,background_color='white').generate(filtered_text)\n",
    "  plt.figure(figsize=(10,5))\n",
    "  plt.imshow(wordcloud,interpolation='bilinear')\n",
    "  plt.axis('off')\n",
    "  plt.show()"
   ]
  },
  {
   "cell_type": "code",
   "execution_count": null,
   "metadata": {},
   "outputs": [],
   "source": [
    "comment_dataframes=movie_review_dataframe.groupby('title')['comment'].apply(lambda x:' '.join(x))\n",
    "for title,comment in comment_dataframes.head(10).items():\n",
    "  print(f\"电影: {title}\")\n",
    "  wc(comment)\n"
   ]
  },
  {
   "attachments": {},
   "cell_type": "markdown",
   "metadata": {},
   "source": [
    "对所有评分进行汇总，找出评分特征"
   ]
  },
  {
   "cell_type": "code",
   "execution_count": null,
   "metadata": {},
   "outputs": [],
   "source": [
    "ratings=movie_review_dataframe[movie_review_dataframe['user_rating'] != 0]['user_rating']\n",
    "ratings_counts=ratings.value_counts()\n",
    "print(ratings_counts)"
   ]
  },
  {
   "cell_type": "code",
   "execution_count": null,
   "metadata": {},
   "outputs": [],
   "source": [
    "plt.bar(ratings_counts.index,ratings_counts.values)\n",
    "plt.title('用户评分综合情况')\n",
    "plt.xlabel('分数')\n",
    "plt.ylabel('次数')\n",
    "plt.show()"
   ]
  },
  {
   "attachments": {},
   "cell_type": "markdown",
   "metadata": {},
   "source": [
    "# 计算每部电影的用户评分并对电影排序"
   ]
  },
  {
   "cell_type": "code",
   "execution_count": null,
   "metadata": {},
   "outputs": [],
   "source": [
    "average_ratings=movie_review_dataframe.groupby('title')['user_rating'].mean()\n",
    "sorted_movies=average_ratings.sort_values(ascending=False)\n",
    "print(sorted_movies)"
   ]
  },
  {
   "cell_type": "code",
   "execution_count": null,
   "metadata": {},
   "outputs": [],
   "source": [
    "#根据用户评分绘制条形图\n",
    "plt.bar(sorted_movies.index,sorted_movies.values)\n",
    "\n",
    "plt.title('用户综合评分排名')\n",
    "plt.xlabel('影片')\n",
    "plt.ylabel('得分')\n",
    "\n",
    "plt.xticks(rotation=90)\n",
    "plt.show()"
   ]
  },
  {
   "attachments": {},
   "cell_type": "markdown",
   "metadata": {},
   "source": [
    "查找出评论次数最多的前十名用户"
   ]
  },
  {
   "cell_type": "code",
   "execution_count": null,
   "metadata": {},
   "outputs": [],
   "source": [
    "#所有用户评论次数统计\n",
    "users=movie_review_dataframe[['user_id','comment']]\n",
    "users_count=users['user_id'].value_counts()\n",
    "color=['white','blue','yellow','red','gray','orange','green','brown']\n",
    "plt.pie(users_count,colors=color)\n",
    "plt.axis('equal')\n",
    "plt.title('用户评论次数统计')\n",
    "plt.show()"
   ]
  },
  {
   "cell_type": "code",
   "execution_count": null,
   "metadata": {},
   "outputs": [],
   "source": [
    "top20_user=users_count.nlargest(20)\n",
    "plt.bar(top20_user.index,top20_user.values)\n",
    "plt.xlabel('用户ID')\n",
    "plt.ylabel('评论次数')\n",
    "plt.title('评论次数最多的前20名用户')\n",
    "plt.xticks(rotation='90')\n",
    "plt.show()"
   ]
  },
  {
   "attachments": {},
   "cell_type": "markdown",
   "metadata": {},
   "source": [
    "对这些用户的评论进行词云分析"
   ]
  },
  {
   "cell_type": "code",
   "execution_count": null,
   "metadata": {},
   "outputs": [],
   "source": [
    "for user in top20_user.index:\n",
    "  user_data=users[users['user_id']==user]\n",
    "  text=' '.join(user_data['comment'])\n",
    "  print('用户：',user)\n",
    "  wc(text)\n"
   ]
  }
 ],
 "metadata": {
  "kernelspec": {
   "display_name": "base",
   "language": "python",
   "name": "python3"
  },
  "language_info": {
   "codemirror_mode": {
    "name": "ipython",
    "version": 3
   },
   "file_extension": ".py",
   "mimetype": "text/x-python",
   "name": "python",
   "nbconvert_exporter": "python",
   "pygments_lexer": "ipython3",
   "version": "3.7.6 (default, Jan  8 2020, 20:23:39) [MSC v.1916 64 bit (AMD64)]"
  },
  "orig_nbformat": 4,
  "vscode": {
   "interpreter": {
    "hash": "42841229b10ceb8793c9fcb9d3defb21572612f32554233fda32386a4d1d591c"
   }
  }
 },
 "nbformat": 4,
 "nbformat_minor": 2
}
